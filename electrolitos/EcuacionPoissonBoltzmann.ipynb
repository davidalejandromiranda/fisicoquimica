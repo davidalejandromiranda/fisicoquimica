{
 "metadata": {
  "language_info": {
   "codemirror_mode": {
    "name": "ipython",
    "version": 3
   },
   "file_extension": ".py",
   "mimetype": "text/x-python",
   "name": "python",
   "nbconvert_exporter": "python",
   "pygments_lexer": "ipython3",
   "version": "3.8.3-final"
  },
  "orig_nbformat": 2,
  "kernelspec": {
   "name": "python3",
   "display_name": "Python 3"
  }
 },
 "nbformat": 4,
 "nbformat_minor": 2,
 "cells": [
  {
   "source": [
    "<h1 align=\"center\">Ecuación de Poisson Boltzmann</h1>\n",
    "<div align=\"right\">Por David A. Miranda, PhD<br>2021</div>\n",
    "<h2>1. Importa las librerias</h2>"
   ],
   "cell_type": "markdown",
   "metadata": {}
  },
  {
   "cell_type": "code",
   "execution_count": 1,
   "metadata": {},
   "outputs": [],
   "source": [
    "import numpy as np \n",
    "import matplotlib.pyplot as plt\n",
    "import scipy.constants as cte"
   ]
  },
  {
   "source": [
    "# 2. Ecuación de Poisson-Boltzmann\n",
    "La ecuación de Poisson se puede utilizar para estudiar las propiedades eléctricas de cargas eléctricas suspendidas en solución.  En tal caso, la densidad de cargas eléctricas en suspensión se puede modelar con una distribución de Maxwell-Botlzmann.  La ecuación de Poisson obtenida al considerar cargas positivas y negativas que obedecen una distribución de Maxwell-Boltzmn se conoce como ecución de Poisson-Boltzmann [(Grinmes and Martinsen, 2018, pp 30-33)](https://bibliotecavirtual.uis.edu.co:2191/science/article/pii/B9780123740045000027/pdfft):\n",
    "\n",
    "$$\\nabla^2\\phi = \\frac{2zq_e \\eta_0}{\\epsilon} sinh \\left( \\frac{zq_e\\phi}{k_BT} \\right)$$\n",
    "\n",
    "En términos de la longitud de Debye $1/\\kappa$ y se hace un cambio de variable $\\psi = \\dfrac{zq_e\\phi}{kT}$, la ecuación de Poisson-Boltzmann toma la siguiente forma:\n",
    "\n",
    "$$\\nabla^2\\psi = \\kappa^2 sinh \\left( \\psi \\right)$$\n",
    "\n",
    "Donde, $\\kappa = \\left( \\dfrac{2z^2q_e^2 \\eta_0}{\\varepsilon kT} \\right)^{1/2}$\n",
    "\n",
    "\n"
   ],
   "cell_type": "markdown",
   "metadata": {}
  },
  {
   "cell_type": "code",
   "execution_count": 2,
   "metadata": {},
   "outputs": [],
   "source": []
  },
  {
   "source": [
    "End!"
   ],
   "cell_type": "markdown",
   "metadata": {}
  }
 ]
}