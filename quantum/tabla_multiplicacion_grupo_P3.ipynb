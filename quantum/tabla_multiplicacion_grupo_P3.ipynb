{
 "cells": [
  {
   "cell_type": "markdown",
   "source": [
    "<h1 align=\"center\">Tabla de multiplicación del grupo de permutaciones P(3)</h1>\n",
    "<div align=\"right\">David A. Miranda, PhD<br>2021</div>"
   ],
   "metadata": {}
  },
  {
   "cell_type": "markdown",
   "source": [
    "## 1. Importar librerías"
   ],
   "metadata": {}
  },
  {
   "cell_type": "code",
   "execution_count": 1,
   "source": [
    "import numpy as np\n",
    "import pandas as pd "
   ],
   "outputs": [],
   "metadata": {}
  },
  {
   "cell_type": "markdown",
   "source": [
    "## 2. Planteamiento del problema\n",
    "\n",
    "Obtener la tabla de multiplicación para el grupo de permutaciones P(3), formado por elementos $g_k = (p_1, p_2, p_3)$, donde $p_i$ puede tomar los valores entre $1$ y $3$. El producto entre dos elemetos del grupo de permutaciones está dado por:\n",
    "\n",
    "$$g_k g_{k'} = (p_1, p_2, p_3)(p'_1, p'_2, p'_3)$$\n",
    "$$g_k g_{k'} = (p'_{p_1}, p'_{p_2}, p'_{p_3})$$\n",
    "\n",
    "Donde $p'_{p_1}$ es valor en el índice $p_1$ del elemento $g_{k'}$ del grupo."
   ],
   "metadata": {}
  },
  {
   "cell_type": "markdown",
   "source": [
    "## 3. Definiciones y Métodos"
   ],
   "metadata": {}
  },
  {
   "cell_type": "code",
   "execution_count": 2,
   "source": [
    "P3 = {\n",
    "    'g1': [1,2,3],\n",
    "    'g2': [2,3,1],\n",
    "    'g3': [3,1,2],\n",
    "    'g4': [2,1,3],\n",
    "    'g5': [1,3,2],\n",
    "    'g6': [3,2,1]\n",
    "}\n",
    "P3"
   ],
   "outputs": [
    {
     "output_type": "execute_result",
     "data": {
      "text/plain": [
       "{'g1': [1, 2, 3],\n",
       " 'g2': [2, 3, 1],\n",
       " 'g3': [3, 1, 2],\n",
       " 'g4': [2, 1, 3],\n",
       " 'g5': [1, 3, 2],\n",
       " 'g6': [3, 2, 1]}"
      ]
     },
     "metadata": {},
     "execution_count": 2
    }
   ],
   "metadata": {}
  },
  {
   "cell_type": "code",
   "execution_count": 3,
   "source": [
    "def prod(gi, gj, group):\n",
    "    \"\"\" \n",
    "    prod(gi, gj, group) retorna el producto de los elementos etiquetados como \n",
    "    gi y gj para el grupo group.  Tanto gi como gj corresponden a etiquetas (string)\n",
    "    y group es un diccionario de Python con los listas numéricas que representan\n",
    "    elementos del grupo de permutación.\n",
    "    \"\"\"\n",
    "    g3 = []\n",
    "    if type(gi) != type('String') or type(gj) != type('String') :\n",
    "        print('¡Error! Los elementos del grupo deben ser tipo string.')\n",
    "        return g3\n",
    "    if type(group) != type({}):\n",
    "        print('¡Error! El grupo de permutaciones debe estar almacenado en un diccionario de Python.')\n",
    "        return g3\n",
    "    if not gi in group.keys():\n",
    "        print('¡Error! %s no es un elemento del grupo.' % gi)\n",
    "        return g3\n",
    "    if not gj in group.keys():\n",
    "        print('¡Error! %s no es un elemento del grupo.' % gj)\n",
    "        return g3\n",
    "    g1 = group[gi]\n",
    "    g2 = group[gj]\n",
    "    if len(g1) != len(g2):\n",
    "        print('¡Error! Los elementos del grupo deben tener el mismo tamaño. len(gi)=%d, len(gj)=%d' % (len(gi), len(gj)))\n",
    "        return g3\n",
    "    g3 = [g2[i-1] for i in g1]\n",
    "    return g3"
   ],
   "outputs": [],
   "metadata": {}
  },
  {
   "cell_type": "code",
   "execution_count": 4,
   "source": [
    "def get_element_name(g, group):\n",
    "    \"\"\"\n",
    "    get_element_name(g) retorna la etiqueta (string) del elemento g (lista)\n",
    "    del grupo group.\n",
    "    \"\"\"\n",
    "    for name, element in group.items():\n",
    "        if g == element:\n",
    "            return name \n",
    "    print('¡Advertencia! El elemento no pertenece al grupo.')\n",
    "    return None"
   ],
   "outputs": [],
   "metadata": {}
  },
  {
   "cell_type": "markdown",
   "source": [
    "## 4. Tabla de multiplicación\n",
    "\n",
    "### 4.1. Multiplicación de dos elementos del grupo"
   ],
   "metadata": {}
  },
  {
   "cell_type": "code",
   "execution_count": 5,
   "source": [
    "gi_name = 'g2'\n",
    "gj_name = 'g5'\n",
    "gk = prod(gi_name, gj_name, P3)\n",
    "gk_name = get_element_name(gk, P3)\n",
    "print('%s %s = %s' % (gi_name, gj_name, gk_name))"
   ],
   "outputs": [
    {
     "output_type": "stream",
     "name": "stdout",
     "text": [
      "g2 g5 = g6\n"
     ]
    }
   ],
   "metadata": {}
  },
  {
   "cell_type": "code",
   "execution_count": 6,
   "source": [
    "group = P3\n",
    "elem_names = list(group.keys())\n",
    "names  = pd.DataFrame(columns=elem_names, index=elem_names)\n",
    "values = pd.DataFrame(columns=elem_names, index=elem_names)\n",
    "for gi in group.keys():\n",
    "    for gj in group.keys():\n",
    "        gk_val = prod(gi, gj, group)\n",
    "        gk = get_element_name(gk_val, group)\n",
    "        names.loc[gi, gj] = gk\n",
    "        values.loc[gi, gj] = gk_val\n"
   ],
   "outputs": [],
   "metadata": {}
  },
  {
   "cell_type": "code",
   "execution_count": 7,
   "source": [
    "group"
   ],
   "outputs": [
    {
     "output_type": "execute_result",
     "data": {
      "text/plain": [
       "{'g1': [1, 2, 3],\n",
       " 'g2': [2, 3, 1],\n",
       " 'g3': [3, 1, 2],\n",
       " 'g4': [2, 1, 3],\n",
       " 'g5': [1, 3, 2],\n",
       " 'g6': [3, 2, 1]}"
      ]
     },
     "metadata": {},
     "execution_count": 7
    }
   ],
   "metadata": {}
  },
  {
   "cell_type": "code",
   "execution_count": 8,
   "source": [
    "names"
   ],
   "outputs": [
    {
     "output_type": "execute_result",
     "data": {
      "text/html": [
       "<div>\n",
       "<style scoped>\n",
       "    .dataframe tbody tr th:only-of-type {\n",
       "        vertical-align: middle;\n",
       "    }\n",
       "\n",
       "    .dataframe tbody tr th {\n",
       "        vertical-align: top;\n",
       "    }\n",
       "\n",
       "    .dataframe thead th {\n",
       "        text-align: right;\n",
       "    }\n",
       "</style>\n",
       "<table border=\"1\" class=\"dataframe\">\n",
       "  <thead>\n",
       "    <tr style=\"text-align: right;\">\n",
       "      <th></th>\n",
       "      <th>g1</th>\n",
       "      <th>g2</th>\n",
       "      <th>g3</th>\n",
       "      <th>g4</th>\n",
       "      <th>g5</th>\n",
       "      <th>g6</th>\n",
       "    </tr>\n",
       "  </thead>\n",
       "  <tbody>\n",
       "    <tr>\n",
       "      <th>g1</th>\n",
       "      <td>g1</td>\n",
       "      <td>g2</td>\n",
       "      <td>g3</td>\n",
       "      <td>g4</td>\n",
       "      <td>g5</td>\n",
       "      <td>g6</td>\n",
       "    </tr>\n",
       "    <tr>\n",
       "      <th>g2</th>\n",
       "      <td>g2</td>\n",
       "      <td>g3</td>\n",
       "      <td>g1</td>\n",
       "      <td>g5</td>\n",
       "      <td>g6</td>\n",
       "      <td>g4</td>\n",
       "    </tr>\n",
       "    <tr>\n",
       "      <th>g3</th>\n",
       "      <td>g3</td>\n",
       "      <td>g1</td>\n",
       "      <td>g2</td>\n",
       "      <td>g6</td>\n",
       "      <td>g4</td>\n",
       "      <td>g5</td>\n",
       "    </tr>\n",
       "    <tr>\n",
       "      <th>g4</th>\n",
       "      <td>g4</td>\n",
       "      <td>g6</td>\n",
       "      <td>g5</td>\n",
       "      <td>g1</td>\n",
       "      <td>g3</td>\n",
       "      <td>g2</td>\n",
       "    </tr>\n",
       "    <tr>\n",
       "      <th>g5</th>\n",
       "      <td>g5</td>\n",
       "      <td>g4</td>\n",
       "      <td>g6</td>\n",
       "      <td>g2</td>\n",
       "      <td>g1</td>\n",
       "      <td>g3</td>\n",
       "    </tr>\n",
       "    <tr>\n",
       "      <th>g6</th>\n",
       "      <td>g6</td>\n",
       "      <td>g5</td>\n",
       "      <td>g4</td>\n",
       "      <td>g3</td>\n",
       "      <td>g2</td>\n",
       "      <td>g1</td>\n",
       "    </tr>\n",
       "  </tbody>\n",
       "</table>\n",
       "</div>"
      ],
      "text/plain": [
       "    g1  g2  g3  g4  g5  g6\n",
       "g1  g1  g2  g3  g4  g5  g6\n",
       "g2  g2  g3  g1  g5  g6  g4\n",
       "g3  g3  g1  g2  g6  g4  g5\n",
       "g4  g4  g6  g5  g1  g3  g2\n",
       "g5  g5  g4  g6  g2  g1  g3\n",
       "g6  g6  g5  g4  g3  g2  g1"
      ]
     },
     "metadata": {},
     "execution_count": 8
    }
   ],
   "metadata": {}
  },
  {
   "cell_type": "code",
   "execution_count": 9,
   "source": [
    "values"
   ],
   "outputs": [
    {
     "output_type": "execute_result",
     "data": {
      "text/html": [
       "<div>\n",
       "<style scoped>\n",
       "    .dataframe tbody tr th:only-of-type {\n",
       "        vertical-align: middle;\n",
       "    }\n",
       "\n",
       "    .dataframe tbody tr th {\n",
       "        vertical-align: top;\n",
       "    }\n",
       "\n",
       "    .dataframe thead th {\n",
       "        text-align: right;\n",
       "    }\n",
       "</style>\n",
       "<table border=\"1\" class=\"dataframe\">\n",
       "  <thead>\n",
       "    <tr style=\"text-align: right;\">\n",
       "      <th></th>\n",
       "      <th>g1</th>\n",
       "      <th>g2</th>\n",
       "      <th>g3</th>\n",
       "      <th>g4</th>\n",
       "      <th>g5</th>\n",
       "      <th>g6</th>\n",
       "    </tr>\n",
       "  </thead>\n",
       "  <tbody>\n",
       "    <tr>\n",
       "      <th>g1</th>\n",
       "      <td>[1, 2, 3]</td>\n",
       "      <td>[2, 3, 1]</td>\n",
       "      <td>[3, 1, 2]</td>\n",
       "      <td>[2, 1, 3]</td>\n",
       "      <td>[1, 3, 2]</td>\n",
       "      <td>[3, 2, 1]</td>\n",
       "    </tr>\n",
       "    <tr>\n",
       "      <th>g2</th>\n",
       "      <td>[2, 3, 1]</td>\n",
       "      <td>[3, 1, 2]</td>\n",
       "      <td>[1, 2, 3]</td>\n",
       "      <td>[1, 3, 2]</td>\n",
       "      <td>[3, 2, 1]</td>\n",
       "      <td>[2, 1, 3]</td>\n",
       "    </tr>\n",
       "    <tr>\n",
       "      <th>g3</th>\n",
       "      <td>[3, 1, 2]</td>\n",
       "      <td>[1, 2, 3]</td>\n",
       "      <td>[2, 3, 1]</td>\n",
       "      <td>[3, 2, 1]</td>\n",
       "      <td>[2, 1, 3]</td>\n",
       "      <td>[1, 3, 2]</td>\n",
       "    </tr>\n",
       "    <tr>\n",
       "      <th>g4</th>\n",
       "      <td>[2, 1, 3]</td>\n",
       "      <td>[3, 2, 1]</td>\n",
       "      <td>[1, 3, 2]</td>\n",
       "      <td>[1, 2, 3]</td>\n",
       "      <td>[3, 1, 2]</td>\n",
       "      <td>[2, 3, 1]</td>\n",
       "    </tr>\n",
       "    <tr>\n",
       "      <th>g5</th>\n",
       "      <td>[1, 3, 2]</td>\n",
       "      <td>[2, 1, 3]</td>\n",
       "      <td>[3, 2, 1]</td>\n",
       "      <td>[2, 3, 1]</td>\n",
       "      <td>[1, 2, 3]</td>\n",
       "      <td>[3, 1, 2]</td>\n",
       "    </tr>\n",
       "    <tr>\n",
       "      <th>g6</th>\n",
       "      <td>[3, 2, 1]</td>\n",
       "      <td>[1, 3, 2]</td>\n",
       "      <td>[2, 1, 3]</td>\n",
       "      <td>[3, 1, 2]</td>\n",
       "      <td>[2, 3, 1]</td>\n",
       "      <td>[1, 2, 3]</td>\n",
       "    </tr>\n",
       "  </tbody>\n",
       "</table>\n",
       "</div>"
      ],
      "text/plain": [
       "           g1         g2         g3         g4         g5         g6\n",
       "g1  [1, 2, 3]  [2, 3, 1]  [3, 1, 2]  [2, 1, 3]  [1, 3, 2]  [3, 2, 1]\n",
       "g2  [2, 3, 1]  [3, 1, 2]  [1, 2, 3]  [1, 3, 2]  [3, 2, 1]  [2, 1, 3]\n",
       "g3  [3, 1, 2]  [1, 2, 3]  [2, 3, 1]  [3, 2, 1]  [2, 1, 3]  [1, 3, 2]\n",
       "g4  [2, 1, 3]  [3, 2, 1]  [1, 3, 2]  [1, 2, 3]  [3, 1, 2]  [2, 3, 1]\n",
       "g5  [1, 3, 2]  [2, 1, 3]  [3, 2, 1]  [2, 3, 1]  [1, 2, 3]  [3, 1, 2]\n",
       "g6  [3, 2, 1]  [1, 3, 2]  [2, 1, 3]  [3, 1, 2]  [2, 3, 1]  [1, 2, 3]"
      ]
     },
     "metadata": {},
     "execution_count": 9
    }
   ],
   "metadata": {}
  },
  {
   "cell_type": "markdown",
   "source": [
    "End!"
   ],
   "metadata": {}
  }
 ],
 "metadata": {
  "orig_nbformat": 4,
  "language_info": {
   "name": "python",
   "version": "3.8.8",
   "mimetype": "text/x-python",
   "codemirror_mode": {
    "name": "ipython",
    "version": 3
   },
   "pygments_lexer": "ipython3",
   "nbconvert_exporter": "python",
   "file_extension": ".py"
  },
  "kernelspec": {
   "name": "python3",
   "display_name": "Python 3.8.8 64-bit ('base': conda)"
  },
  "interpreter": {
   "hash": "30eb2b6f3977a48e3f12d81904048f23a4983d9da51d6a4858f131ded924b541"
  }
 },
 "nbformat": 4,
 "nbformat_minor": 2
}